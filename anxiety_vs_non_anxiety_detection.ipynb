{
 "cells": [
  {
   "cell_type": "code",
   "execution_count": null,
   "metadata": {},
   "outputs": [],
   "source": []
  },
  {
   "cell_type": "code",
   "execution_count": 3,
   "metadata": {
    "id": "H0nOKFsQXRfU"
   },
   "outputs": [],
   "source": [
    "import numpy as np\n",
    "import pandas as pd\n",
    "import tensorflow as tf\n",
    "from sklearn.model_selection import train_test_split\n",
    "from keras.models import Sequential\n",
    "from keras.layers import Dense\n",
    "from keras.layers.convolutional import Conv1D\n",
    "from keras.layers.convolutional import MaxPooling1D\n",
    "from tensorflow.keras.layers import Embedding\n",
    "from keras.layers import Flatten\n",
    "\n",
    "from keras.preprocessing.text import Tokenizer\n",
    "from keras_preprocessing.sequence import pad_sequences\n",
    "\n",
    "import matplotlib.pyplot as plt\n",
    "import seaborn as sb\n",
    "from sklearn.metrics import confusion_matrix\n",
    "from sklearn.metrics import classification_report\n",
    "from sklearn.metrics import plot_confusion_matrix\n",
    "\n",
    "from keras.constraints import maxnorm\n",
    "from keras.layers import Dropout\n",
    "from tensorflow.keras.utils import plot_model\n",
    "import time\n",
    "import warnings\n",
    "warnings.filterwarnings(\"ignore\")\n",
    "import pickle\n"
   ]
  },
  {
   "cell_type": "code",
   "execution_count": 4,
   "metadata": {
    "id": "465blQZ_X718"
   },
   "outputs": [],
   "source": [
    "path = './final_tidy_reddits_lemmetized.csv'\n",
    "df = pd.read_csv(path)"
   ]
  },
  {
   "cell_type": "code",
   "execution_count": 5,
   "metadata": {
    "colab": {
     "base_uri": "https://localhost:8080/"
    },
    "id": "VxnpFu0mpFDY",
    "outputId": "f21b1c8f-a21c-43ac-e707-c2fc5b3babdc"
   },
   "outputs": [
    {
     "data": {
      "text/plain": [
       "(115033, 5)"
      ]
     },
     "execution_count": 5,
     "metadata": {},
     "output_type": "execute_result"
    }
   ],
   "source": [
    "df.shape"
   ]
  },
  {
   "cell_type": "code",
   "execution_count": 6,
   "metadata": {
    "colab": {
     "base_uri": "https://localhost:8080/",
     "height": 1000
    },
    "id": "fg0u1SJ4rIul",
    "outputId": "086d619d-ad36-47e8-a3be-f03ccb31932a"
   },
   "outputs": [
    {
     "data": {
      "text/html": [
       "<div>\n",
       "<style scoped>\n",
       "    .dataframe tbody tr th:only-of-type {\n",
       "        vertical-align: middle;\n",
       "    }\n",
       "\n",
       "    .dataframe tbody tr th {\n",
       "        vertical-align: top;\n",
       "    }\n",
       "\n",
       "    .dataframe thead th {\n",
       "        text-align: right;\n",
       "    }\n",
       "</style>\n",
       "<table border=\"1\" class=\"dataframe\">\n",
       "  <thead>\n",
       "    <tr style=\"text-align: right;\">\n",
       "      <th></th>\n",
       "      <th>Unnamed: 0</th>\n",
       "      <th>label</th>\n",
       "      <th>text</th>\n",
       "      <th>lemmatized</th>\n",
       "      <th>tokens_back_to_text</th>\n",
       "    </tr>\n",
       "  </thead>\n",
       "  <tbody>\n",
       "    <tr>\n",
       "      <th>91331</th>\n",
       "      <td>91331</td>\n",
       "      <td>depression</td>\n",
       "      <td>['tiring', 'people', 'understand', 'repeat', '...</td>\n",
       "      <td>['tire', 'people', 'understand', 'repeat', 'mi...</td>\n",
       "      <td>tire people understand repeat mistake know sel...</td>\n",
       "    </tr>\n",
       "    <tr>\n",
       "      <th>26556</th>\n",
       "      <td>26556</td>\n",
       "      <td>Anxiety</td>\n",
       "      <td>['im', 'diagnosed', 'like', 'appointments', 'e...</td>\n",
       "      <td>['im', 'diagnose', 'like', 'appointment', 'eve...</td>\n",
       "      <td>im diagnose like appointment even sure anxiety...</td>\n",
       "    </tr>\n",
       "    <tr>\n",
       "      <th>93975</th>\n",
       "      <td>93975</td>\n",
       "      <td>depression</td>\n",
       "      <td>['im', 'yo', 'guy', 'current', 'state', 'life'...</td>\n",
       "      <td>['im', 'yo', 'guy', 'current', 'state', 'life'...</td>\n",
       "      <td>im yo guy current state life nothing feel enjo...</td>\n",
       "    </tr>\n",
       "    <tr>\n",
       "      <th>109700</th>\n",
       "      <td>109700</td>\n",
       "      <td>depression</td>\n",
       "      <td>['ok', 'acknowledge', 'life', 'ever', 'point',...</td>\n",
       "      <td>['ok', 'acknowledge', 'life', 'ever', 'point',...</td>\n",
       "      <td>ok acknowledge life ever point mean people lik...</td>\n",
       "    </tr>\n",
       "    <tr>\n",
       "      <th>79480</th>\n",
       "      <td>79480</td>\n",
       "      <td>depression</td>\n",
       "      <td>['thought', 'venting', 'someone', 'would', 'go...</td>\n",
       "      <td>['thought', 'vent', 'someone', 'would', 'good'...</td>\n",
       "      <td>thought vent someone would good broken mind ta...</td>\n",
       "    </tr>\n",
       "    <tr>\n",
       "      <th>106336</th>\n",
       "      <td>106336</td>\n",
       "      <td>depression</td>\n",
       "      <td>['deal', 'lack', 'motivation', 'perspective', ...</td>\n",
       "      <td>['deal', 'lack', 'motivation', 'perspective', ...</td>\n",
       "      <td>deal lack motivation perspective future basica...</td>\n",
       "    </tr>\n",
       "    <tr>\n",
       "      <th>54672</th>\n",
       "      <td>54672</td>\n",
       "      <td>depression</td>\n",
       "      <td>['sure', 'best', 'place', 'post', 'look', 'pos...</td>\n",
       "      <td>['sure', 'best', 'place', 'post', 'look', 'pos...</td>\n",
       "      <td>sure best place post look post history see sui...</td>\n",
       "    </tr>\n",
       "  </tbody>\n",
       "</table>\n",
       "</div>"
      ],
      "text/plain": [
       "        Unnamed: 0       label  \\\n",
       "91331        91331  depression   \n",
       "26556        26556     Anxiety   \n",
       "93975        93975  depression   \n",
       "109700      109700  depression   \n",
       "79480        79480  depression   \n",
       "106336      106336  depression   \n",
       "54672        54672  depression   \n",
       "\n",
       "                                                     text  \\\n",
       "91331   ['tiring', 'people', 'understand', 'repeat', '...   \n",
       "26556   ['im', 'diagnosed', 'like', 'appointments', 'e...   \n",
       "93975   ['im', 'yo', 'guy', 'current', 'state', 'life'...   \n",
       "109700  ['ok', 'acknowledge', 'life', 'ever', 'point',...   \n",
       "79480   ['thought', 'venting', 'someone', 'would', 'go...   \n",
       "106336  ['deal', 'lack', 'motivation', 'perspective', ...   \n",
       "54672   ['sure', 'best', 'place', 'post', 'look', 'pos...   \n",
       "\n",
       "                                               lemmatized  \\\n",
       "91331   ['tire', 'people', 'understand', 'repeat', 'mi...   \n",
       "26556   ['im', 'diagnose', 'like', 'appointment', 'eve...   \n",
       "93975   ['im', 'yo', 'guy', 'current', 'state', 'life'...   \n",
       "109700  ['ok', 'acknowledge', 'life', 'ever', 'point',...   \n",
       "79480   ['thought', 'vent', 'someone', 'would', 'good'...   \n",
       "106336  ['deal', 'lack', 'motivation', 'perspective', ...   \n",
       "54672   ['sure', 'best', 'place', 'post', 'look', 'pos...   \n",
       "\n",
       "                                      tokens_back_to_text  \n",
       "91331   tire people understand repeat mistake know sel...  \n",
       "26556   im diagnose like appointment even sure anxiety...  \n",
       "93975   im yo guy current state life nothing feel enjo...  \n",
       "109700  ok acknowledge life ever point mean people lik...  \n",
       "79480   thought vent someone would good broken mind ta...  \n",
       "106336  deal lack motivation perspective future basica...  \n",
       "54672   sure best place post look post history see sui...  "
      ]
     },
     "execution_count": 6,
     "metadata": {},
     "output_type": "execute_result"
    }
   ],
   "source": [
    "df.sample(7)"
   ]
  },
  {
   "cell_type": "code",
   "execution_count": 8,
   "metadata": {},
   "outputs": [],
   "source": [
    "df.drop(columns = ['Unnamed: 0'],  inplace=True)"
   ]
  },
  {
   "cell_type": "code",
   "execution_count": 9,
   "metadata": {},
   "outputs": [
    {
     "data": {
      "text/html": [
       "<div>\n",
       "<style scoped>\n",
       "    .dataframe tbody tr th:only-of-type {\n",
       "        vertical-align: middle;\n",
       "    }\n",
       "\n",
       "    .dataframe tbody tr th {\n",
       "        vertical-align: top;\n",
       "    }\n",
       "\n",
       "    .dataframe thead th {\n",
       "        text-align: right;\n",
       "    }\n",
       "</style>\n",
       "<table border=\"1\" class=\"dataframe\">\n",
       "  <thead>\n",
       "    <tr style=\"text-align: right;\">\n",
       "      <th></th>\n",
       "      <th>label</th>\n",
       "      <th>text</th>\n",
       "      <th>lemmatized</th>\n",
       "      <th>tokens_back_to_text</th>\n",
       "    </tr>\n",
       "  </thead>\n",
       "  <tbody>\n",
       "    <tr>\n",
       "      <th>15149</th>\n",
       "      <td>Anxiety</td>\n",
       "      <td>['anxious', 'thoughts', 'social', 'interaction...</td>\n",
       "      <td>['anxious', 'thought', 'social', 'interaction'...</td>\n",
       "      <td>anxious thought social interaction regular bas...</td>\n",
       "    </tr>\n",
       "    <tr>\n",
       "      <th>34589</th>\n",
       "      <td>Anxiety</td>\n",
       "      <td>['bad', 'sometimes', 'im', 'happy', 'sudden', ...</td>\n",
       "      <td>['bad', 'sometimes', 'im', 'happy', 'sudden', ...</td>\n",
       "      <td>bad sometimes im happy sudden kind feel ever r...</td>\n",
       "    </tr>\n",
       "    <tr>\n",
       "      <th>43042</th>\n",
       "      <td>bipolar</td>\n",
       "      <td>['diagnosed', 'bipolar', 'type', 'mixed', 'rap...</td>\n",
       "      <td>['diagnose', 'bipolar', 'type', 'mixed', 'rapi...</td>\n",
       "      <td>diagnose bipolar type mixed rapid cycling epis...</td>\n",
       "    </tr>\n",
       "    <tr>\n",
       "      <th>61216</th>\n",
       "      <td>depression</td>\n",
       "      <td>['maybe', 'im', 'lil', 'shit', 'shitty', 'pers...</td>\n",
       "      <td>['maybe', 'im', 'lil', 'shit', 'shitty', 'pers...</td>\n",
       "      <td>maybe im lil shit shitty person past maybe wor...</td>\n",
       "    </tr>\n",
       "    <tr>\n",
       "      <th>40320</th>\n",
       "      <td>bipolar</td>\n",
       "      <td>['like', 'medicated', 'get', 'point', 'think',...</td>\n",
       "      <td>['like', 'medicate', 'get', 'point', 'think', ...</td>\n",
       "      <td>like medicate get point think med make still c...</td>\n",
       "    </tr>\n",
       "    <tr>\n",
       "      <th>110148</th>\n",
       "      <td>depression</td>\n",
       "      <td>['ive', 'anxiety', 'meds', 'years', 'seeing', ...</td>\n",
       "      <td>['ive', 'anxiety', 'med', 'year', 'see', 'ther...</td>\n",
       "      <td>ive anxiety med year see therapist twice month...</td>\n",
       "    </tr>\n",
       "    <tr>\n",
       "      <th>61858</th>\n",
       "      <td>depression</td>\n",
       "      <td>['family', 'went', 'brazil', 'thought', 'grand...</td>\n",
       "      <td>['family', 'go', 'brazil', 'thought', 'grandpa...</td>\n",
       "      <td>family go brazil thought grandpa gon na die tu...</td>\n",
       "    </tr>\n",
       "    <tr>\n",
       "      <th>100834</th>\n",
       "      <td>depression</td>\n",
       "      <td>['enough', 'already', 'feel', 'like', 'seen', ...</td>\n",
       "      <td>['enough', 'already', 'feel', 'like', 'see', '...</td>\n",
       "      <td>enough already feel like see everything life g...</td>\n",
       "    </tr>\n",
       "    <tr>\n",
       "      <th>65085</th>\n",
       "      <td>depression</td>\n",
       "      <td>['anyone', 'every', 'feel', 'like', 'done', 'e...</td>\n",
       "      <td>['anyone', 'every', 'feel', 'like', 'do', 'eve...</td>\n",
       "      <td>anyone every feel like do everything im tire p...</td>\n",
       "    </tr>\n",
       "    <tr>\n",
       "      <th>112490</th>\n",
       "      <td>depression</td>\n",
       "      <td>['friends', 'rapidly', 'progressing', 'life', ...</td>\n",
       "      <td>['friend', 'rapidly', 'progress', 'life', 'pro...</td>\n",
       "      <td>friend rapidly progress life probably ever tru...</td>\n",
       "    </tr>\n",
       "  </tbody>\n",
       "</table>\n",
       "</div>"
      ],
      "text/plain": [
       "             label                                               text  \\\n",
       "15149      Anxiety  ['anxious', 'thoughts', 'social', 'interaction...   \n",
       "34589      Anxiety  ['bad', 'sometimes', 'im', 'happy', 'sudden', ...   \n",
       "43042      bipolar  ['diagnosed', 'bipolar', 'type', 'mixed', 'rap...   \n",
       "61216   depression  ['maybe', 'im', 'lil', 'shit', 'shitty', 'pers...   \n",
       "40320      bipolar  ['like', 'medicated', 'get', 'point', 'think',...   \n",
       "110148  depression  ['ive', 'anxiety', 'meds', 'years', 'seeing', ...   \n",
       "61858   depression  ['family', 'went', 'brazil', 'thought', 'grand...   \n",
       "100834  depression  ['enough', 'already', 'feel', 'like', 'seen', ...   \n",
       "65085   depression  ['anyone', 'every', 'feel', 'like', 'done', 'e...   \n",
       "112490  depression  ['friends', 'rapidly', 'progressing', 'life', ...   \n",
       "\n",
       "                                               lemmatized  \\\n",
       "15149   ['anxious', 'thought', 'social', 'interaction'...   \n",
       "34589   ['bad', 'sometimes', 'im', 'happy', 'sudden', ...   \n",
       "43042   ['diagnose', 'bipolar', 'type', 'mixed', 'rapi...   \n",
       "61216   ['maybe', 'im', 'lil', 'shit', 'shitty', 'pers...   \n",
       "40320   ['like', 'medicate', 'get', 'point', 'think', ...   \n",
       "110148  ['ive', 'anxiety', 'med', 'year', 'see', 'ther...   \n",
       "61858   ['family', 'go', 'brazil', 'thought', 'grandpa...   \n",
       "100834  ['enough', 'already', 'feel', 'like', 'see', '...   \n",
       "65085   ['anyone', 'every', 'feel', 'like', 'do', 'eve...   \n",
       "112490  ['friend', 'rapidly', 'progress', 'life', 'pro...   \n",
       "\n",
       "                                      tokens_back_to_text  \n",
       "15149   anxious thought social interaction regular bas...  \n",
       "34589   bad sometimes im happy sudden kind feel ever r...  \n",
       "43042   diagnose bipolar type mixed rapid cycling epis...  \n",
       "61216   maybe im lil shit shitty person past maybe wor...  \n",
       "40320   like medicate get point think med make still c...  \n",
       "110148  ive anxiety med year see therapist twice month...  \n",
       "61858   family go brazil thought grandpa gon na die tu...  \n",
       "100834  enough already feel like see everything life g...  \n",
       "65085   anyone every feel like do everything im tire p...  \n",
       "112490  friend rapidly progress life probably ever tru...  "
      ]
     },
     "execution_count": 9,
     "metadata": {},
     "output_type": "execute_result"
    }
   ],
   "source": [
    "df.sample(10)"
   ]
  },
  {
   "cell_type": "code",
   "execution_count": 10,
   "metadata": {
    "id": "mT3B6wV9CrIb"
   },
   "outputs": [],
   "source": [
    "pd.options.display.max_colwidth = None\n",
    "pd.options.display.max_rows = None"
   ]
  },
  {
   "cell_type": "code",
   "execution_count": 11,
   "metadata": {
    "colab": {
     "base_uri": "https://localhost:8080/"
    },
    "id": "nDdzvsHcMTMl",
    "outputId": "b51c5155-164e-4628-ad85-dac1c4db55ca"
   },
   "outputs": [
    {
     "data": {
      "text/plain": [
       "label                  0\n",
       "text                   0\n",
       "lemmatized             0\n",
       "tokens_back_to_text    6\n",
       "dtype: int64"
      ]
     },
     "execution_count": 11,
     "metadata": {},
     "output_type": "execute_result"
    }
   ],
   "source": [
    "df.isna().sum()"
   ]
  },
  {
   "cell_type": "code",
   "execution_count": 12,
   "metadata": {
    "colab": {
     "base_uri": "https://localhost:8080/"
    },
    "id": "0MsfZsxGZZsr",
    "outputId": "0e3336c8-acf8-4e78-dde6-0a16ee80df2f"
   },
   "outputs": [
    {
     "data": {
      "text/plain": [
       "list"
      ]
     },
     "execution_count": 12,
     "metadata": {},
     "output_type": "execute_result"
    }
   ],
   "source": [
    "reddits = list(df['tokens_back_to_text'])\n",
    "type(reddits)"
   ]
  },
  {
   "cell_type": "code",
   "execution_count": 13,
   "metadata": {
    "colab": {
     "base_uri": "https://localhost:8080/"
    },
    "id": "orF09VH4Zg9Y",
    "outputId": "3cf5d245-b477-4e9e-b82a-0b1ffbde24d2"
   },
   "outputs": [
    {
     "data": {
      "text/plain": [
       "115033"
      ]
     },
     "execution_count": 13,
     "metadata": {},
     "output_type": "execute_result"
    }
   ],
   "source": [
    "len(reddits)"
   ]
  },
  {
   "cell_type": "code",
   "execution_count": 14,
   "metadata": {
    "colab": {
     "base_uri": "https://localhost:8080/"
    },
    "id": "vpwv6by5n27I",
    "outputId": "c2bce55d-6832-4bdf-974a-3667ad1c9c6d"
   },
   "outputs": [
    {
     "data": {
      "text/plain": [
       "depression    69217\n",
       "Anxiety       36257\n",
       "bipolar        9559\n",
       "Name: label, dtype: int64"
      ]
     },
     "execution_count": 14,
     "metadata": {},
     "output_type": "execute_result"
    }
   ],
   "source": [
    "df['label'].value_counts()"
   ]
  },
  {
   "cell_type": "code",
   "execution_count": 15,
   "metadata": {
    "id": "yO9yxGL5FIop"
   },
   "outputs": [],
   "source": [
    "df['label'] = np.where(df['label']=='Anxiety',1,0)"
   ]
  },
  {
   "cell_type": "code",
   "execution_count": 16,
   "metadata": {
    "colab": {
     "base_uri": "https://localhost:8080/",
     "height": 856
    },
    "id": "k_xvvIBwn57v",
    "outputId": "43bff98a-68e3-44ba-9465-8e58ca9c08ed"
   },
   "outputs": [
    {
     "data": {
      "text/html": [
       "<div>\n",
       "<style scoped>\n",
       "    .dataframe tbody tr th:only-of-type {\n",
       "        vertical-align: middle;\n",
       "    }\n",
       "\n",
       "    .dataframe tbody tr th {\n",
       "        vertical-align: top;\n",
       "    }\n",
       "\n",
       "    .dataframe thead th {\n",
       "        text-align: right;\n",
       "    }\n",
       "</style>\n",
       "<table border=\"1\" class=\"dataframe\">\n",
       "  <thead>\n",
       "    <tr style=\"text-align: right;\">\n",
       "      <th></th>\n",
       "      <th>label</th>\n",
       "      <th>text</th>\n",
       "      <th>lemmatized</th>\n",
       "      <th>tokens_back_to_text</th>\n",
       "    </tr>\n",
       "  </thead>\n",
       "  <tbody>\n",
       "    <tr>\n",
       "      <th>0</th>\n",
       "      <td>1</td>\n",
       "      <td>['smirk', 'face', 'like', 'im', 'high', 'feel', 'pretty', 'good', 'longer', 'feel', 'anxious', 'im', 'peering', 'behind', 'back', 'every', 'second', 'didnt', 'expect', 'feel', 'good', 'anyone', 'ideas', 'propranolol', 'making', 'feel', 'somewhat', 'high']</td>\n",
       "      <td>['smirk', 'face', 'like', 'im', 'high', 'feel', 'pretty', 'good', 'longer', 'feel', 'anxious', 'im', 'peer', 'behind', 'back', 'every', 'second', 'didnt', 'expect', 'feel', 'good', 'anyone', 'idea', 'propranolol', 'make', 'feel', 'somewhat', 'high']</td>\n",
       "      <td>smirk face like im high feel pretty good longer feel anxious im peer behind back every second didnt expect feel good anyone idea propranolol make feel somewhat high</td>\n",
       "    </tr>\n",
       "    <tr>\n",
       "      <th>1</th>\n",
       "      <td>1</td>\n",
       "      <td>['minutes', 'ago', 'posted', 'something', 'another', 'subreddit', 'convince', 'minutes', 'good', 'post', 'finally', 'posted', 'suddenly', 'got', 'anxious', 'like', 'anxious', 'could', 'hear', 'heart', 'beating', 'started', 'breath', 'faster', 'etc', 'end', 'deleted', 'post', 'happened', 'many', 'times', 'often', 'writing', 'something', 'group', 'chats', 'strangers', 'discord', 'generally', 'posting', 'comment', 'social', 'media', 'commenting', 'friends', 'post', 'sth', 'like', 'even', 'chatting', 'people', 'online', 'makes', 'uncomfortable', 'think', 'might', 'react', 'way', 'might', 'afraid', 'rejection', 'feeling', 'left', 'someone', 'responding', 'liking', 'confuses', 'feel', 'way', 'irl', 'good', 'friends', 'never', 'dealt', 'rejection', 'since', 'sociable', 'also', 'dont', 'really', 'care', 'people', 'think', 'reason', 'really', 'seems', 'bother', 'particular', 'situations', 'anyone', 'advice', 'overcome', 'fear', 'btw', 'dont', 'feel', 'way', 'asking', 'help', 'like', 'right', 'diagnosed', 'anxiety', 'disorder', 'think', 'one', 'either', 'looking', 'advice', 'subreddit', 'anxious', 'posting', 'reddit', 'group', 'chats']</td>\n",
       "      <td>['minute', 'ago', 'post', 'something', 'another', 'subreddit', 'convince', 'minute', 'good', 'post', 'finally', 'post', 'suddenly', 'get', 'anxious', 'like', 'anxious', 'could', 'hear', 'heart', 'beating', 'start', 'breath', 'faster', 'etc', 'end', 'delete', 'post', 'happen', 'many', 'time', 'often', 'write', 'something', 'group', 'chat', 'stranger', 'discord', 'generally', 'post', 'comment', 'social', 'medium', 'comment', 'friend', 'post', 'sth', 'like', 'even', 'chat', 'people', 'online', 'make', 'uncomfortable', 'think', 'might', 'react', 'way', 'might', 'afraid', 'rejection', 'feel', 'left', 'someone', 'respond', 'like', 'confuses', 'feel', 'way', 'irl', 'good', 'friend', 'never', 'dealt', 'rejection', 'since', 'sociable', 'also', 'dont', 'really', 'care', 'people', 'think', 'reason', 'really', 'seem', 'bother', 'particular', 'situation', 'anyone', 'advice', 'overcome', 'fear', 'btw', 'dont', 'feel', 'way', 'ask', 'help', 'like', 'right', 'diagnose', 'anxiety', 'disorder', 'think', 'one', 'either', 'look', 'advice', 'subreddit', 'anxious', 'post', 'reddit', 'group', 'chat']</td>\n",
       "      <td>minute ago post something another subreddit convince minute good post finally post suddenly get anxious like anxious could hear heart beating start breath faster etc end delete post happen many time often write something group chat stranger discord generally post comment social medium comment friend post sth like even chat people online make uncomfortable think might react way might afraid rejection feel left someone respond like confuses feel way irl good friend never dealt rejection since sociable also dont really care people think reason really seem bother particular situation anyone advice overcome fear btw dont feel way ask help like right diagnose anxiety disorder think one either look advice subreddit anxious post reddit group chat</td>\n",
       "    </tr>\n",
       "    <tr>\n",
       "      <th>2</th>\n",
       "      <td>1</td>\n",
       "      <td>['feel', 'anxious', 'college', 'body', 'started', 'showing', 'signs', 'heat', 'chest', 'think', 'lot', 'makes', 'anxious', 'afraid', 'go', 'college', 'especially', 'pandemic', 'need', 'group', 'fit', 'feel', 'anxious', 'college']</td>\n",
       "      <td>['feel', 'anxious', 'college', 'body', 'start', 'show', 'sign', 'heat', 'chest', 'think', 'lot', 'make', 'anxious', 'afraid', 'go', 'college', 'especially', 'pandemic', 'need', 'group', 'fit', 'feel', 'anxious', 'college']</td>\n",
       "      <td>feel anxious college body start show sign heat chest think lot make anxious afraid go college especially pandemic need group fit feel anxious college</td>\n",
       "    </tr>\n",
       "  </tbody>\n",
       "</table>\n",
       "</div>"
      ],
      "text/plain": [
       "   label  \\\n",
       "0      1   \n",
       "1      1   \n",
       "2      1   \n",
       "\n",
       "                                                                                                                                                                                                                                                                                                                                                                                                                                                                                                                                                                                                                                                                                                                                                                                                                                                                                                                                                                                                                                                                                                                                                                                      text  \\\n",
       "0                                                                                                                                                                                                                                                                                                                                                                                                                                                                                                                                                                                                                                                                                                                                                                                                                                                                                                                          ['smirk', 'face', 'like', 'im', 'high', 'feel', 'pretty', 'good', 'longer', 'feel', 'anxious', 'im', 'peering', 'behind', 'back', 'every', 'second', 'didnt', 'expect', 'feel', 'good', 'anyone', 'ideas', 'propranolol', 'making', 'feel', 'somewhat', 'high']   \n",
       "1  ['minutes', 'ago', 'posted', 'something', 'another', 'subreddit', 'convince', 'minutes', 'good', 'post', 'finally', 'posted', 'suddenly', 'got', 'anxious', 'like', 'anxious', 'could', 'hear', 'heart', 'beating', 'started', 'breath', 'faster', 'etc', 'end', 'deleted', 'post', 'happened', 'many', 'times', 'often', 'writing', 'something', 'group', 'chats', 'strangers', 'discord', 'generally', 'posting', 'comment', 'social', 'media', 'commenting', 'friends', 'post', 'sth', 'like', 'even', 'chatting', 'people', 'online', 'makes', 'uncomfortable', 'think', 'might', 'react', 'way', 'might', 'afraid', 'rejection', 'feeling', 'left', 'someone', 'responding', 'liking', 'confuses', 'feel', 'way', 'irl', 'good', 'friends', 'never', 'dealt', 'rejection', 'since', 'sociable', 'also', 'dont', 'really', 'care', 'people', 'think', 'reason', 'really', 'seems', 'bother', 'particular', 'situations', 'anyone', 'advice', 'overcome', 'fear', 'btw', 'dont', 'feel', 'way', 'asking', 'help', 'like', 'right', 'diagnosed', 'anxiety', 'disorder', 'think', 'one', 'either', 'looking', 'advice', 'subreddit', 'anxious', 'posting', 'reddit', 'group', 'chats']   \n",
       "2                                                                                                                                                                                                                                                                                                                                                                                                                                                                                                                                                                                                                                                                                                                                                                                                                                                                                                                                                    ['feel', 'anxious', 'college', 'body', 'started', 'showing', 'signs', 'heat', 'chest', 'think', 'lot', 'makes', 'anxious', 'afraid', 'go', 'college', 'especially', 'pandemic', 'need', 'group', 'fit', 'feel', 'anxious', 'college']   \n",
       "\n",
       "                                                                                                                                                                                                                                                                                                                                                                                                                                                                                                                                                                                                                                                                                                                                                                                                                                                                                                                                                                                                                                                                                                                               lemmatized  \\\n",
       "0                                                                                                                                                                                                                                                                                                                                                                                                                                                                                                                                                                                                                                                                                                                                                                                                                                                                               ['smirk', 'face', 'like', 'im', 'high', 'feel', 'pretty', 'good', 'longer', 'feel', 'anxious', 'im', 'peer', 'behind', 'back', 'every', 'second', 'didnt', 'expect', 'feel', 'good', 'anyone', 'idea', 'propranolol', 'make', 'feel', 'somewhat', 'high']   \n",
       "1  ['minute', 'ago', 'post', 'something', 'another', 'subreddit', 'convince', 'minute', 'good', 'post', 'finally', 'post', 'suddenly', 'get', 'anxious', 'like', 'anxious', 'could', 'hear', 'heart', 'beating', 'start', 'breath', 'faster', 'etc', 'end', 'delete', 'post', 'happen', 'many', 'time', 'often', 'write', 'something', 'group', 'chat', 'stranger', 'discord', 'generally', 'post', 'comment', 'social', 'medium', 'comment', 'friend', 'post', 'sth', 'like', 'even', 'chat', 'people', 'online', 'make', 'uncomfortable', 'think', 'might', 'react', 'way', 'might', 'afraid', 'rejection', 'feel', 'left', 'someone', 'respond', 'like', 'confuses', 'feel', 'way', 'irl', 'good', 'friend', 'never', 'dealt', 'rejection', 'since', 'sociable', 'also', 'dont', 'really', 'care', 'people', 'think', 'reason', 'really', 'seem', 'bother', 'particular', 'situation', 'anyone', 'advice', 'overcome', 'fear', 'btw', 'dont', 'feel', 'way', 'ask', 'help', 'like', 'right', 'diagnose', 'anxiety', 'disorder', 'think', 'one', 'either', 'look', 'advice', 'subreddit', 'anxious', 'post', 'reddit', 'group', 'chat']   \n",
       "2                                                                                                                                                                                                                                                                                                                                                                                                                                                                                                                                                                                                                                                                                                                                                                                                                                                                                                          ['feel', 'anxious', 'college', 'body', 'start', 'show', 'sign', 'heat', 'chest', 'think', 'lot', 'make', 'anxious', 'afraid', 'go', 'college', 'especially', 'pandemic', 'need', 'group', 'fit', 'feel', 'anxious', 'college']   \n",
       "\n",
       "                                                                                                                                                                                                                                                                                                                                                                                                                                                                                                                                                                                                                                                                                                                                                            tokens_back_to_text  \n",
       "0                                                                                                                                                                                                                                                                                                                                                                                                                                                                                                                                                                                                          smirk face like im high feel pretty good longer feel anxious im peer behind back every second didnt expect feel good anyone idea propranolol make feel somewhat high  \n",
       "1  minute ago post something another subreddit convince minute good post finally post suddenly get anxious like anxious could hear heart beating start breath faster etc end delete post happen many time often write something group chat stranger discord generally post comment social medium comment friend post sth like even chat people online make uncomfortable think might react way might afraid rejection feel left someone respond like confuses feel way irl good friend never dealt rejection since sociable also dont really care people think reason really seem bother particular situation anyone advice overcome fear btw dont feel way ask help like right diagnose anxiety disorder think one either look advice subreddit anxious post reddit group chat  \n",
       "2                                                                                                                                                                                                                                                                                                                                                                                                                                                                                                                                                                                                                         feel anxious college body start show sign heat chest think lot make anxious afraid go college especially pandemic need group fit feel anxious college  "
      ]
     },
     "execution_count": 16,
     "metadata": {},
     "output_type": "execute_result"
    }
   ],
   "source": [
    "df.head(3)"
   ]
  },
  {
   "cell_type": "code",
   "execution_count": 17,
   "metadata": {
    "colab": {
     "base_uri": "https://localhost:8080/"
    },
    "id": "dNAB_rTNY58t",
    "outputId": "b324bf33-3edc-4f9e-886f-bc22e87d4f28"
   },
   "outputs": [
    {
     "data": {
      "text/plain": [
       "0    78776\n",
       "1    36257\n",
       "Name: label, dtype: int64"
      ]
     },
     "execution_count": 17,
     "metadata": {},
     "output_type": "execute_result"
    }
   ],
   "source": [
    "df['label'].value_counts()"
   ]
  },
  {
   "cell_type": "markdown",
   "metadata": {
    "id": "fPwPfWWnprr0"
   },
   "source": [
    "## **Feature extraction**"
   ]
  },
  {
   "cell_type": "code",
   "execution_count": 19,
   "metadata": {
    "id": "YZpKi4zjptza"
   },
   "outputs": [],
   "source": [
    "# prepare tokenizer\n",
    "tokenizer = Tokenizer()\n",
    "tokenizer.fit_on_texts([str(x) for x in reddits])"
   ]
  },
  {
   "cell_type": "code",
   "execution_count": 20,
   "metadata": {
    "colab": {
     "base_uri": "https://localhost:8080/"
    },
    "id": "1AIhZA8pp0wY",
    "outputId": "fb696285-1387-4afe-b218-0814eced3513"
   },
   "outputs": [
    {
     "name": "stdout",
     "output_type": "stream",
     "text": [
      "WE HAVE 57670 UNIQUE TOKENS.\n"
     ]
    }
   ],
   "source": [
    "word_index = tokenizer.word_index\n",
    "print('WE HAVE %s UNIQUE TOKENS.' % len(word_index))"
   ]
  },
  {
   "cell_type": "code",
   "execution_count": 22,
   "metadata": {
    "id": "2cXJjNzyp426"
   },
   "outputs": [],
   "source": [
    "sequences = tokenizer.texts_to_sequences([str(x) for x in reddits])"
   ]
  },
  {
   "cell_type": "code",
   "execution_count": 49,
   "metadata": {},
   "outputs": [],
   "source": [
    "with open('anxiety.sequences.pkl', 'wb') as f:\n",
    "    pickle.dump(sequences, f, protocol=pickle.HIGHEST_PROTOCOL)\n"
   ]
  },
  {
   "cell_type": "code",
   "execution_count": 23,
   "metadata": {
    "colab": {
     "base_uri": "https://localhost:8080/"
    },
    "id": "Juj92C51p7zA",
    "outputId": "c9763da8-2568-45bb-b252-e0915844e7bf"
   },
   "outputs": [
    {
     "data": {
      "text/plain": [
       "(115033, 150)"
      ]
     },
     "execution_count": 23,
     "metadata": {},
     "output_type": "execute_result"
    }
   ],
   "source": [
    "# pad redddits to a max length of 150 words\n",
    "maxlen = 150\n",
    "X = pad_sequences(sequences, maxlen = maxlen)\n",
    "X.shape"
   ]
  },
  {
   "cell_type": "code",
   "execution_count": 24,
   "metadata": {
    "id": "Q2Oc3_xbDwWk"
   },
   "outputs": [],
   "source": [
    "y = df['label']"
   ]
  },
  {
   "cell_type": "markdown",
   "metadata": {
    "id": "tZo2Np9bo696"
   },
   "source": [
    "##Split the dataset into **training** and **test** sets"
   ]
  },
  {
   "cell_type": "code",
   "execution_count": 26,
   "metadata": {
    "id": "17gtbAQvom9z"
   },
   "outputs": [],
   "source": [
    "X_train, X_test, y_train, y_test = train_test_split(X, y, test_size=0.2, random_state=43)"
   ]
  },
  {
   "cell_type": "code",
   "execution_count": 27,
   "metadata": {
    "colab": {
     "base_uri": "https://localhost:8080/"
    },
    "id": "q0iVVvCVo-H4",
    "outputId": "350ebcf5-c429-47a4-a0c6-7a6afeb53b80"
   },
   "outputs": [
    {
     "data": {
      "text/plain": [
       "((92026, 150), (23007, 150), (92026,), (23007,))"
      ]
     },
     "execution_count": 27,
     "metadata": {},
     "output_type": "execute_result"
    }
   ],
   "source": [
    "X_train.shape, X_test.shape, y_train.shape, y_test.shape"
   ]
  },
  {
   "cell_type": "code",
   "execution_count": 28,
   "metadata": {
    "id": "t5DtzExcrPuV"
   },
   "outputs": [],
   "source": [
    "y_train = np.asarray(y_train).astype('float32').reshape((-1,1))\n",
    "y_test = np.asarray(y_test).astype('float32').reshape((-1,1))"
   ]
  },
  {
   "cell_type": "markdown",
   "metadata": {
    "id": "24wLyGZApa_B"
   },
   "source": [
    "# Defining the **Convolutional Neural Network Model**"
   ]
  },
  {
   "cell_type": "code",
   "execution_count": 29,
   "metadata": {
    "id": "lO9o6yzwpUIi"
   },
   "outputs": [],
   "source": [
    "# Prepare hyperparameters of CNN\n",
    "vocab_size = len(word_index) + 1\n",
    "# output_dim = 32"
   ]
  },
  {
   "cell_type": "code",
   "execution_count": 30,
   "metadata": {
    "id": "zrk1T7vWpium"
   },
   "outputs": [],
   "source": [
    "# Building the CNN Model\n",
    "model = Sequential()\n",
    "\n",
    "model.add(Embedding(vocab_size, 128, input_length=maxlen))\n",
    "model.add(Conv1D(128, 3, padding='same', activation='relu'))\n",
    "model.add(Conv1D(64, 3, padding='same', activation='relu'))\n",
    "model.add(MaxPooling1D())\n",
    "model.add(Flatten())\n",
    "\n",
    "model.add(Dense(250, activation='relu'))\n",
    "\n",
    "model.add(Dense(1, activation='sigmoid'))"
   ]
  },
  {
   "cell_type": "markdown",
   "metadata": {
    "id": "sDQVHW1pEPm4"
   },
   "source": [
    "### Visualizing the CNN Model"
   ]
  },
  {
   "cell_type": "code",
   "execution_count": 32,
   "metadata": {},
   "outputs": [
    {
     "name": "stdout",
     "output_type": "stream",
     "text": [
      "Collecting pydot\n",
      "  Using cached pydot-1.4.2-py2.py3-none-any.whl (21 kB)\n",
      "Requirement already satisfied: pyparsing>=2.1.4 in c:\\python310\\lib\\site-packages (from pydot) (3.0.9)\n",
      "Installing collected packages: pydot\n",
      "Successfully installed pydot-1.4.2\n"
     ]
    },
    {
     "name": "stderr",
     "output_type": "stream",
     "text": [
      "\n",
      "[notice] A new release of pip available: 22.2.2 -> 22.3\n",
      "[notice] To update, run: python.exe -m pip install --upgrade pip\n"
     ]
    },
    {
     "name": "stdout",
     "output_type": "stream",
     "text": [
      "Collecting graphviz\n",
      "  Using cached graphviz-0.20.1-py3-none-any.whl (47 kB)\n",
      "Installing collected packages: graphviz\n",
      "Successfully installed graphviz-0.20.1\n"
     ]
    },
    {
     "name": "stderr",
     "output_type": "stream",
     "text": [
      "\n",
      "[notice] A new release of pip available: 22.2.2 -> 22.3\n",
      "[notice] To update, run: python.exe -m pip install --upgrade pip\n"
     ]
    }
   ],
   "source": [
    "!pip install pydot\n",
    "!pip install graphviz"
   ]
  },
  {
   "cell_type": "code",
   "execution_count": 33,
   "metadata": {
    "colab": {
     "base_uri": "https://localhost:8080/",
     "height": 758
    },
    "id": "bbF56xATLULt",
    "outputId": "16f887b6-bfad-4e8e-d8a9-17f2b6517a20"
   },
   "outputs": [
    {
     "name": "stdout",
     "output_type": "stream",
     "text": [
      "You must install pydot (`pip install pydot`) and install graphviz (see instructions at https://graphviz.gitlab.io/download/) for plot_model/model_to_dot to work.\n"
     ]
    }
   ],
   "source": [
    "plot_model(model)"
   ]
  },
  {
   "cell_type": "code",
   "execution_count": 34,
   "metadata": {
    "colab": {
     "base_uri": "https://localhost:8080/"
    },
    "id": "2AXhVEpKqLsg",
    "outputId": "2317b9da-070d-4e03-a244-fc68dc355e7b"
   },
   "outputs": [
    {
     "name": "stdout",
     "output_type": "stream",
     "text": [
      "Model: \"sequential\"\n",
      "_________________________________________________________________\n",
      " Layer (type)                Output Shape              Param #   \n",
      "=================================================================\n",
      " embedding (Embedding)       (None, 150, 128)          7381888   \n",
      "                                                                 \n",
      " conv1d (Conv1D)             (None, 150, 128)          49280     \n",
      "                                                                 \n",
      " conv1d_1 (Conv1D)           (None, 150, 64)           24640     \n",
      "                                                                 \n",
      " max_pooling1d (MaxPooling1D  (None, 75, 64)           0         \n",
      " )                                                               \n",
      "                                                                 \n",
      " flatten (Flatten)           (None, 4800)              0         \n",
      "                                                                 \n",
      " dense (Dense)               (None, 250)               1200250   \n",
      "                                                                 \n",
      " dense_1 (Dense)             (None, 1)                 251       \n",
      "                                                                 \n",
      "=================================================================\n",
      "Total params: 8,656,309\n",
      "Trainable params: 8,656,309\n",
      "Non-trainable params: 0\n",
      "_________________________________________________________________\n"
     ]
    }
   ],
   "source": [
    "model.summary()"
   ]
  },
  {
   "cell_type": "markdown",
   "metadata": {
    "id": "MtvNxeoiEiTH"
   },
   "source": [
    "### Using the **Adam optimizer** for the optimization and **Binary cross entropy** to calculate the Loss Function"
   ]
  },
  {
   "cell_type": "code",
   "execution_count": 35,
   "metadata": {
    "id": "Z1pXLbl_LzV-"
   },
   "outputs": [],
   "source": [
    "model.compile(loss='binary_crossentropy', optimizer='adam', metrics=['accuracy'])"
   ]
  },
  {
   "cell_type": "code",
   "execution_count": 36,
   "metadata": {
    "colab": {
     "base_uri": "https://localhost:8080/"
    },
    "id": "o7ZoCd_Qq0Vp",
    "outputId": "b966ebc8-6c17-40ae-9aa0-5ffae15f934a"
   },
   "outputs": [
    {
     "name": "stdout",
     "output_type": "stream",
     "text": [
      "Epoch 1/5\n",
      "2301/2301 [==============================] - 592s 257ms/step - loss: 0.2417 - accuracy: 0.9066 - val_loss: 0.2213 - val_accuracy: 0.9187\n",
      "Epoch 2/5\n",
      "2301/2301 [==============================] - 600s 261ms/step - loss: 0.1746 - accuracy: 0.9356 - val_loss: 0.2416 - val_accuracy: 0.9131\n",
      "Epoch 3/5\n",
      "2301/2301 [==============================] - 1252s 544ms/step - loss: 0.1269 - accuracy: 0.9539 - val_loss: 0.2813 - val_accuracy: 0.9036\n",
      "Epoch 4/5\n",
      "2301/2301 [==============================] - 620s 269ms/step - loss: 0.0785 - accuracy: 0.9721 - val_loss: 0.3568 - val_accuracy: 0.9000\n",
      "Epoch 5/5\n",
      "2301/2301 [==============================] - 618s 268ms/step - loss: 0.0464 - accuracy: 0.9839 - val_loss: 0.4660 - val_accuracy: 0.8944\n",
      "Accuracy: 89.79%\n",
      "Training duration : 61.0 minutes\n"
     ]
    }
   ],
   "source": [
    "start = time.time()\n",
    "\n",
    "# fit the model to the training set\n",
    "cnn_hist = model.fit(X_train, y_train, epochs = 5, validation_split = 0.2)\n",
    "\n",
    "# evaluation of the model on the test set\n",
    "scores = model.evaluate(X_test, y_test, verbose = 0)\n",
    "print(\"Accuracy: %.2f%%\" % (scores[1]*100))\n",
    "warnings.filterwarnings(\"ignore\")\n",
    "\n",
    "end = time.time()\n",
    "total = (end-start) // 60\n",
    "print('Training duration : {} minutes'.format(total))"
   ]
  },
  {
   "cell_type": "code",
   "execution_count": 37,
   "metadata": {
    "id": "b9UZy78yEK_U"
   },
   "outputs": [],
   "source": [
    "history_dict = cnn_hist.history"
   ]
  },
  {
   "cell_type": "markdown",
   "metadata": {
    "id": "gutqv5GsKG0W"
   },
   "source": [
    "## **Plotting the loss and the accuracy of both training and validation sets using the model history**"
   ]
  },
  {
   "cell_type": "code",
   "execution_count": 39,
   "metadata": {
    "colab": {
     "base_uri": "https://localhost:8080/",
     "height": 513
    },
    "id": "u0R9WAp63esX",
    "outputId": "7e35ebde-d2eb-43c9-eb63-36c9acf880a0"
   },
   "outputs": [
    {
     "data": {
      "image/png": "[encoded data removed]",
      "text/plain": [
       "<Figure size 864x576 with 1 Axes>"
      ]
     },
     "metadata": {
      "needs_background": "light"
     },
     "output_type": "display_data"
    }
   ],
   "source": [
    "# loss\n",
    "loss_values = history_dict['loss']\n",
    "val_loss_values = history_dict['val_loss']\n",
    "\n",
    "epochs = range(1, len(loss_values) + 1) \n",
    "\n",
    "# plot\n",
    "plt.figure(figsize=(12, 8))\n",
    "plt.plot(epochs, loss_values, 'green',label='Training loss')\n",
    "plt.plot(epochs, val_loss_values, 'orange', label='Validation loss')\n",
    "plt.title('Training and validation loss')\n",
    "plt.xlabel('Epochs')\n",
    "plt.ylabel('Loss')\n",
    "plt.legend()\n",
    "plt.show()"
   ]
  },
  {
   "cell_type": "code",
   "execution_count": 40,
   "metadata": {
    "colab": {
     "base_uri": "https://localhost:8080/",
     "height": 513
    },
    "id": "c26VWaqPFfQ7",
    "outputId": "bfddb6ae-4847-42e6-faaa-258558e444cd"
   },
   "outputs": [
    {
     "data": {
      "image/png": "[encoded data removed]",
      "text/plain": [
       "<Figure size 864x576 with 1 Axes>"
      ]
     },
     "metadata": {
      "needs_background": "light"
     },
     "output_type": "display_data"
    }
   ],
   "source": [
    "# accuracy\n",
    "acc = history_dict['accuracy']\n",
    "val_acc = history_dict['val_accuracy']\n",
    "\n",
    "# range of X (no. of epochs)\n",
    "epochs = range(1, len(acc) + 1)\n",
    "\n",
    "plt.figure(figsize=(12, 8))\n",
    "plt.plot(epochs, acc, 'green',label='Training accuracy')\n",
    "# orange is for \"orange\"\n",
    "plt.plot(epochs, val_acc, 'orange', label='Validation accuracy')\n",
    "plt.title('Training and validation accuracy')\n",
    "plt.xlabel('Epochs')\n",
    "plt.ylabel('Accuracy')\n",
    "plt.legend()\n",
    "plt.show()"
   ]
  },
  {
   "cell_type": "markdown",
   "metadata": {
    "id": "gpQDITnpJy7X"
   },
   "source": [
    "## **Confusion matrix**"
   ]
  },
  {
   "cell_type": "code",
   "execution_count": 41,
   "metadata": {
    "id": "fdm2im9sFFd4"
   },
   "outputs": [
    {
     "name": "stdout",
     "output_type": "stream",
     "text": [
      "719/719 [==============================] - 35s 47ms/step\n"
     ]
    }
   ],
   "source": [
    "preds = np.round(model.predict(X_test), 0)"
   ]
  },
  {
   "cell_type": "code",
   "execution_count": 43,
   "metadata": {
    "id": "eoDqL9Xj9FMj"
   },
   "outputs": [],
   "source": [
    "cm = confusion_matrix(y_test, preds)"
   ]
  },
  {
   "cell_type": "code",
   "execution_count": 44,
   "metadata": {
    "id": "yZxhKaOV_aAa"
   },
   "outputs": [],
   "source": [
    "df_cm = pd.DataFrame(cm, index = [\"anxiety\", \"non-anxiety\"], columns = [\"anxiety\", \"non-anxiety\"])"
   ]
  },
  {
   "cell_type": "code",
   "execution_count": 45,
   "metadata": {
    "colab": {
     "base_uri": "https://localhost:8080/",
     "height": 296
    },
    "id": "uAfhW45D8sQI",
    "outputId": "2b9ae3f6-f5e4-4b35-cea5-3de055bbb55d",
    "scrolled": true
   },
   "outputs": [
    {
     "data": {
      "text/plain": [
       "Text(33.0, 0.5, 'Predicted Class')"
      ]
     },
     "execution_count": 45,
     "metadata": {},
     "output_type": "execute_result"
    },
    {
     "data": {
      "image/png": "[encoded data removed]",
      "text/plain": [
       "<Figure size 432x288 with 2 Axes>"
      ]
     },
     "metadata": {
      "needs_background": "light"
     },
     "output_type": "display_data"
    }
   ],
   "source": [
    "plt.figure(figsize=(6, 4))\n",
    "sb.heatmap(df_cm, annot=True, cmap=\"crest\", fmt='d')\n",
    "plt.xlabel('True Class')\n",
    "plt.ylabel('Predicted Class')"
   ]
  },
  {
   "cell_type": "markdown",
   "metadata": {
    "id": "iggsDHPH8tdS"
   },
   "source": [
    " Save to pickle file"
   ]
  },
  {
   "cell_type": "code",
   "execution_count": 48,
   "metadata": {},
   "outputs": [
    {
     "name": "stderr",
     "output_type": "stream",
     "text": [
      "WARNING:absl:Found untraced functions such as _jit_compiled_convolution_op, _jit_compiled_convolution_op while saving (showing 2 of 2). These functions will not be directly callable after loading.\n"
     ]
    },
    {
     "name": "stdout",
     "output_type": "stream",
     "text": [
      "INFO:tensorflow:Assets written to: ram://708c7d11-5a50-4a1d-a508-b55611233828/assets\n"
     ]
    },
    {
     "name": "stderr",
     "output_type": "stream",
     "text": [
      "INFO:tensorflow:Assets written to: ram://708c7d11-5a50-4a1d-a508-b55611233828/assets\n"
     ]
    }
   ],
   "source": [
    "with open('anxiety.model.pkl', 'wb') as f:\n",
    "    pickle.dump(model, f, protocol=pickle.HIGHEST_PROTOCOL)\n"
   ]
  }
 ],
 "metadata": {
  "colab": {
   "collapsed_sections": [],
   "name": "anxiety_vs_non_anxiety_detection",
   "provenance": []
  },
  "kernelspec": {
   "display_name": "Python 3 (ipykernel)",
   "language": "python",
   "name": "python3"
  },
  "language_info": {
   "codemirror_mode": {
    "name": "ipython",
    "version": 3
   },
   "file_extension": ".py",
   "mimetype": "text/x-python",
   "name": "python",
   "nbconvert_exporter": "python",
   "pygments_lexer": "ipython3",
   "version": "3.10.5"
  }
 },
 "nbformat": 4,
 "nbformat_minor": 1
}
